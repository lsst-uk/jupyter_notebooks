{
 "cells": [
  {
   "cell_type": "code",
   "execution_count": 12,
   "metadata": {},
   "outputs": [],
   "source": [
    "import mysql.connector\n",
    "import settings\n",
    "import time\n",
    "import numpy as np\n",
    "from astropy.stats import LombScargle\n",
    "import matplotlib.pyplot as plt\n",
    "%matplotlib inline"
   ]
  },
  {
   "cell_type": "code",
   "execution_count": 13,
   "metadata": {},
   "outputs": [],
   "source": [
    "msl = mysql.connector.connect(\n",
    "    user=settings.DB_USER, \n",
    "    password=settings.DB_PASS, \n",
    "    host=settings.DB_HOST, database='ztf')\n",
    "cursor = msl.cursor(buffered=True, dictionary=True)\n",
    "cursor2 = msl.cursor(buffered=True, dictionary=True)"
   ]
  },
  {
   "cell_type": "code",
   "execution_count": 14,
   "metadata": {},
   "outputs": [],
   "source": [
    "def fetch_lomb_scargle(objectId):\n",
    "    colors = ['g', 'r']\n",
    "#    print('https://lasair.roe.ac.uk/object/%s/' % objectId)\n",
    "    query = 'SELECT jd, magpsf, fid FROM candidates WHERE objectId=\"%s\"' % objectId\n",
    "    t = time.time()\n",
    "    cursor2.execute(query)\n",
    "\n",
    "    magpsf = [[],[]]\n",
    "    jd     = [[],[]]\n",
    "    for candidate in cursor2:\n",
    "        fid0 = candidate['fid']-1\n",
    "        jd[fid0]    .append(candidate['jd'])\n",
    "        magpsf[fid0].append(candidate['magpsf'])\n",
    "    lightcurve = {'jd':jd, 'magpsf':magpsf}\n",
    "    return lightcurve"
   ]
  },
  {
   "cell_type": "code",
   "execution_count": 15,
   "metadata": {},
   "outputs": [],
   "source": [
    "def make_lomb_scargle(lightcurve):\n",
    "    colors = ['g', 'r']\n",
    "    jd = lightcurve['jd']\n",
    "    magpsf = lightcurve['magpsf']\n",
    "    for fid0 in range(2):\n",
    "        if len(jd[fid0]) > 10:\n",
    "            frequency, power = LombScargle(np.array(jd[fid0]), np.array(magpsf[fid0])).autopower(nyquist_factor=2)\n",
    "#            plt.plot(frequency, power, color=colors[fid0])\n",
    "#    plt.show()"
   ]
  },
  {
   "cell_type": "code",
   "execution_count": 16,
   "metadata": {},
   "outputs": [
    {
     "name": "stdout",
     "output_type": "stream",
     "text": [
      "Fetch run fetch run\n",
      "Compute time =   10.27\n",
      "Fetch time   =    3.47\n"
     ]
    }
   ],
   "source": [
    "query = 'SELECT objectId, ncand FROM objects ORDER BY ncand DESC LIMIT 1000'\n",
    "cursor.execute(query)\n",
    "t_compute = 0.0\n",
    "t_fetch = 0.0\n",
    "for row in cursor:\n",
    "    t = time.time()\n",
    "    lightcurve= fetch_lomb_scargle(row['objectId'])\n",
    "    t_fetch += (time.time() - t)\n",
    "    t = time.time()\n",
    "    make_lomb_scargle(lightcurve)\n",
    "    t_compute += (time.time() - t)\n",
    "\n",
    "print(\"Fetch run fetch run\")\n",
    "print(\"Compute time = %7.2f\" % t_compute)\n",
    "print(\"Fetch time   = %7.2f\" % t_fetch)"
   ]
  },
  {
   "cell_type": "code",
   "execution_count": 17,
   "metadata": {
    "scrolled": true
   },
   "outputs": [
    {
     "name": "stdout",
     "output_type": "stream",
     "text": [
      "Fetch all run all\n",
      "Compute time =    9.95\n",
      "Fetch time   =    3.59\n"
     ]
    }
   ],
   "source": [
    "query = 'SELECT objectId, ncand FROM objects ORDER BY ncand DESC LIMIT 1000'\n",
    "cursor.execute(query)\n",
    "lightcurves = []\n",
    "\n",
    "t_compute = 0.0\n",
    "t_fetch = 0.0\n",
    "t = time.time()\n",
    "for row in cursor:\n",
    "    lightcurve= fetch_lomb_scargle(row['objectId'])\n",
    "    lightcurves.append(lightcurve)\n",
    "t_fetch += (time.time() - t)\n",
    "\n",
    "t = time.time()\n",
    "for lightcurve in lightcurves:\n",
    "    make_lomb_scargle(lightcurve)\n",
    "t_compute += (time.time() - t)\n",
    "\n",
    "print(\"Fetch all run all\")\n",
    "print(\"Compute time = %7.2f\" % t_compute)\n",
    "print(\"Fetch time   = %7.2f\" % t_fetch)"
   ]
  }
 ],
 "metadata": {
  "kernelspec": {
   "display_name": "Python 3",
   "language": "python",
   "name": "python3"
  },
  "language_info": {
   "codemirror_mode": {
    "name": "ipython",
    "version": 3
   },
   "file_extension": ".py",
   "mimetype": "text/x-python",
   "name": "python",
   "nbconvert_exporter": "python",
   "pygments_lexer": "ipython3",
   "version": "3.6.8"
  }
 },
 "nbformat": 4,
 "nbformat_minor": 2
}
