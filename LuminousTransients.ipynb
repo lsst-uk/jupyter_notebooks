{
 "cells": [
  {
   "cell_type": "markdown",
   "metadata": {},
   "source": [
    "# Recent luminous extragalactic transients - joining tables"
   ]
  },
  {
   "cell_type": "markdown",
   "metadata": {},
   "source": [
    "(Modified from an original by Joe Lyman). \n",
    "In this notebook we will be looking for luminous extragalactic transients by ustilising the information provided from the [Sherlock](https://qub-sherlock.readthedocs.io/en/latest/) contextual classifier. We will specifically look for transients that are luminous compared to their host galaxies, where there is a detection in the last 10 days. The aim is to quickly find superluminous supernovae candidates (very bright supernovae that often inhabit dwarf galaxies).\n",
    "\n",
    "As part of the process we will be looking at joining tables in SQL queries, order to retrieve information about a given `object` from different tables."
   ]
  },
  {
   "cell_type": "markdown",
   "metadata": {},
   "source": [
    "First of all we need to do some imports, setup plotting, and connect to the ZTF database"
   ]
  },
  {
   "cell_type": "code",
   "execution_count": 1,
   "metadata": {},
   "outputs": [],
   "source": [
    "import mysql.connector\n",
    "import numpy as np\n",
    "from astropy.table import Table\n",
    "import astropy.coordinates as coord\n",
    "import astropy.units as u\n",
    "import matplotlib\n",
    "import matplotlib.pyplot as plt\n",
    "%matplotlib inline\n",
    "\n",
    "from ztf import settings"
   ]
  },
  {
   "cell_type": "code",
   "execution_count": 2,
   "metadata": {},
   "outputs": [],
   "source": [
    "msl = mysql.connector.connect(\n",
    "    user=settings.DB_USER, \n",
    "    password=settings.DB_PASS, \n",
    "    host=settings.DB_HOST, database='ztf')\n",
    "cursor = msl.cursor()"
   ]
  },
  {
   "cell_type": "markdown",
   "metadata": {},
   "source": [
    "As an example, lets take a look at what information is provided by the Sherlock crossmatching:"
   ]
  },
  {
   "cell_type": "code",
   "execution_count": 3,
   "metadata": {},
   "outputs": [
    {
     "data": {
      "text/html": [
       "<i>Table length=10</i>\n",
       "<table id=\"table139784748760200\" class=\"table-striped table-bordered table-condensed\">\n",
       "<thead><tr><th>transient_object_id</th><th>catalogue_object_id</th><th>catalogue_table_id</th><th>separationArcsec</th><th>northSeparationArcsec</th><th>eastSeparationArcsec</th><th>id</th><th>z</th><th>scale</th><th>distance</th><th>distance_modulus</th><th>photoZ</th><th>photoZErr</th><th>association_type</th><th>dateCreated</th><th>physical_separation_kpc</th><th>catalogue_object_type</th><th>catalogue_object_subtype</th><th>association_rank</th><th>catalogue_table_name</th><th>catalogue_view_name</th><th>rank</th><th>rankScore</th><th>search_name</th><th>major_axis_arcsec</th><th>direct_distance</th><th>direct_distance_scale</th><th>direct_distance_modulus</th><th>raDeg</th><th>decDeg</th><th>original_search_radius_arcsec</th><th>catalogue_view_id</th><th>U</th><th>UErr</th><th>B</th><th>BErr</th><th>V</th><th>VErr</th><th>R</th><th>RErr</th><th>I</th><th>IErr</th><th>J</th><th>JErr</th><th>H</th><th>HErr</th><th>K</th><th>KErr</th><th>_u</th><th>_uErr</th><th>_g</th><th>_gErr</th><th>_r</th><th>_rErr</th><th>_i</th><th>_iErr</th><th>_z</th><th>_zErr</th><th>_y</th><th>_yErr</th><th>G</th><th>GErr</th><th>unkMag</th><th>unkMagErr</th><th>dateLastModified</th><th>updated</th><th>classificationReliability</th><th>transientAbsMag</th><th>merged_rank</th></tr></thead>\n",
       "<thead><tr><th>int64</th><th>str30</th><th>int64</th><th>float64</th><th>float64</th><th>float64</th><th>int64</th><th>object</th><th>object</th><th>object</th><th>object</th><th>object</th><th>object</th><th>str7</th><th>object</th><th>object</th><th>str7</th><th>object</th><th>object</th><th>str18</th><th>str42</th><th>object</th><th>float64</th><th>str28</th><th>object</th><th>object</th><th>object</th><th>object</th><th>float64</th><th>float64</th><th>float64</th><th>int64</th><th>object</th><th>object</th><th>object</th><th>object</th><th>object</th><th>object</th><th>object</th><th>object</th><th>object</th><th>object</th><th>object</th><th>object</th><th>object</th><th>object</th><th>object</th><th>object</th><th>object</th><th>object</th><th>object</th><th>object</th><th>object</th><th>object</th><th>object</th><th>object</th><th>object</th><th>object</th><th>object</th><th>object</th><th>object</th><th>object</th><th>object</th><th>object</th><th>object</th><th>int64</th><th>int64</th><th>object</th><th>object</th></tr></thead>\n",
       "<tr><td>1235661</td><td>232996065935604352/NCFO028307</td><td>71</td><td>0.07260430046265566</td><td>0.0726</td><td>-0.0008</td><td>6787825</td><td>None</td><td>None</td><td>None</td><td>None</td><td>None</td><td>None</td><td>VS</td><td>2018-11-02 07:38:47</td><td>None</td><td>star</td><td>multiple</td><td>None</td><td>GAIA/GSC</td><td>multiple</td><td>1</td><td>1002.0726043004627</td><td>multiple</td><td>None</td><td>None</td><td>None</td><td>None</td><td>64.3341565914</td><td>45.5942731734</td><td>0.0</td><td>36</td><td>None</td><td>None</td><td>15.3687</td><td>0.425363</td><td>14.7653</td><td>0.379915</td><td>None</td><td>None</td><td>None</td><td>None</td><td>None</td><td>None</td><td>None</td><td>None</td><td>None</td><td>None</td><td>None</td><td>None</td><td>None</td><td>None</td><td>None</td><td>None</td><td>None</td><td>None</td><td>None</td><td>None</td><td>None</td><td>None</td><td>15.9081842601</td><td>None</td><td>None</td><td>None</td><td>2018-11-02 07:38:47</td><td>1</td><td>1</td><td>None</td><td>None</td></tr>\n",
       "<tr><td>1240537</td><td>1920670857505734144/23364861+4</td><td>71</td><td>0.21766104734733543</td><td>0.21677</td><td>-0.01975</td><td>6787826</td><td>None</td><td>None</td><td>None</td><td>None</td><td>None</td><td>None</td><td>VS</td><td>2018-11-02 07:38:47</td><td>None</td><td>star</td><td>multiple</td><td>None</td><td>GAIA/2MASS/GSC/NED</td><td>multiple</td><td>1</td><td>1002.2176610473473</td><td>multiple</td><td>None</td><td>None</td><td>None</td><td>None</td><td>354.20253545016783</td><td>40.811960814366444</td><td>0.0</td><td>36</td><td>None</td><td>None</td><td>15.5353</td><td>0.425884</td><td>14.8779</td><td>0.318287</td><td>None</td><td>None</td><td>None</td><td>None</td><td>13.611</td><td>0.026</td><td>13.219</td><td>0.032</td><td>13.157</td><td>0.029</td><td>None</td><td>None</td><td>None</td><td>None</td><td>None</td><td>None</td><td>None</td><td>None</td><td>None</td><td>None</td><td>None</td><td>None</td><td>14.7892467175</td><td>None</td><td>None</td><td>None</td><td>2018-11-02 07:38:47</td><td>0</td><td>1</td><td>None</td><td>None</td></tr>\n",
       "<tr><td>1240537</td><td>1920670857505734144</td><td>71</td><td>0.21766104734733543</td><td>0.21677</td><td>-0.01975</td><td>6787827</td><td>None</td><td>None</td><td>None</td><td>None</td><td>None</td><td>None</td><td>VS</td><td>2018-11-02 07:38:47</td><td>None</td><td>star</td><td>None</td><td>None</td><td>Gaia DR1</td><td>tcs_view_star_gaia_dr1</td><td>None</td><td>1002.2176610473473</td><td>gaia star angular</td><td>None</td><td>None</td><td>None</td><td>None</td><td>354.20253545016783</td><td>40.811960814366444</td><td>100.0</td><td>36</td><td>None</td><td>None</td><td>None</td><td>None</td><td>None</td><td>None</td><td>None</td><td>None</td><td>None</td><td>None</td><td>None</td><td>None</td><td>None</td><td>None</td><td>None</td><td>None</td><td>None</td><td>None</td><td>None</td><td>None</td><td>None</td><td>None</td><td>None</td><td>None</td><td>None</td><td>None</td><td>None</td><td>None</td><td>14.7892467175</td><td>None</td><td>None</td><td>None</td><td>2018-11-02 07:38:47</td><td>0</td><td>1</td><td>None</td><td>1</td></tr>\n",
       "<tr><td>1240537</td><td>23364861+4048430</td><td>1</td><td>0.23502377235760316</td><td>0.221</td><td>0.0798</td><td>6787828</td><td>None</td><td>None</td><td>None</td><td>None</td><td>None</td><td>None</td><td>VS</td><td>2018-11-02 07:38:47</td><td>None</td><td>star</td><td>None</td><td>None</td><td>2MASS PSC</td><td>tcs_view_star_2mass_psc_final</td><td>None</td><td>1002.2176610473473</td><td>2mass star angular</td><td>None</td><td>None</td><td>None</td><td>None</td><td>354.202572</td><td>40.811962</td><td>2.5</td><td>20</td><td>None</td><td>None</td><td>None</td><td>None</td><td>None</td><td>None</td><td>None</td><td>None</td><td>None</td><td>None</td><td>13.611</td><td>0.026</td><td>13.219</td><td>0.032</td><td>13.157</td><td>0.029</td><td>None</td><td>None</td><td>None</td><td>None</td><td>None</td><td>None</td><td>None</td><td>None</td><td>None</td><td>None</td><td>None</td><td>None</td><td>None</td><td>None</td><td>None</td><td>None</td><td>2018-11-02 07:38:47</td><td>0</td><td>1</td><td>None</td><td>1</td></tr>\n",
       "<tr><td>1240537</td><td>N07B003337</td><td>3</td><td>0.40430205594767765</td><td>0.24193</td><td>0.32395</td><td>6787829</td><td>None</td><td>None</td><td>None</td><td>None</td><td>None</td><td>None</td><td>VS</td><td>2018-11-02 07:38:47</td><td>None</td><td>star</td><td>0</td><td>None</td><td>GSC v2.3</td><td>tcs_view_star_guide_star_catalogue_v2_3</td><td>None</td><td>1002.2176610473473</td><td>GSC star 1 angular</td><td>None</td><td>None</td><td>None</td><td>None</td><td>354.202661592376</td><td>40.81196780144429</td><td>100.0</td><td>21</td><td>None</td><td>None</td><td>15.5353</td><td>0.425884</td><td>14.8779</td><td>0.318287</td><td>None</td><td>None</td><td>None</td><td>None</td><td>None</td><td>None</td><td>None</td><td>None</td><td>None</td><td>None</td><td>None</td><td>None</td><td>None</td><td>None</td><td>None</td><td>None</td><td>None</td><td>None</td><td>None</td><td>None</td><td>None</td><td>None</td><td>None</td><td>None</td><td>None</td><td>None</td><td>2018-11-02 07:38:47</td><td>0</td><td>1</td><td>None</td><td>1</td></tr>\n",
       "<tr><td>1240537</td><td>2MASS J23364861+4048430</td><td>68</td><td>1.065696667539302</td><td>1.04</td><td>0.22</td><td>6787830</td><td>None</td><td>None</td><td>None</td><td>None</td><td>None</td><td>None</td><td>SN</td><td>2018-11-02 07:38:47</td><td>None</td><td>galaxy</td><td>UvS</td><td>None</td><td>NED</td><td>tcs_view_galaxy_like_ned_stream</td><td>None</td><td>1002.2176610473473</td><td>ned phot galaxy-like angular</td><td>None</td><td>None</td><td>None</td><td>None</td><td>354.202625</td><td>40.81219</td><td>10.0</td><td>39</td><td>None</td><td>None</td><td>None</td><td>None</td><td>None</td><td>None</td><td>None</td><td>None</td><td>None</td><td>None</td><td>None</td><td>None</td><td>None</td><td>None</td><td>None</td><td>None</td><td>None</td><td>None</td><td>None</td><td>None</td><td>None</td><td>None</td><td>None</td><td>None</td><td>None</td><td>None</td><td>None</td><td>None</td><td>None</td><td>None</td><td>None</td><td>None</td><td>2018-11-02 07:38:47</td><td>0</td><td>3</td><td>None</td><td>1</td></tr>\n",
       "<tr><td>1240538</td><td>23543460+4147382/1921582490084</td><td>1</td><td>0.02915858874652471</td><td>0.0342</td><td>0.0327</td><td>6787831</td><td>None</td><td>None</td><td>None</td><td>None</td><td>None</td><td>None</td><td>VS</td><td>2018-11-02 07:38:47</td><td>None</td><td>star</td><td>multiple</td><td>None</td><td>2MASS/GAIA/GSC/NED</td><td>multiple</td><td>1</td><td>1002.0291585887466</td><td>multiple</td><td>None</td><td>None</td><td>None</td><td>None</td><td>358.6442009199287</td><td>41.793969182413925</td><td>0.0</td><td>20</td><td>None</td><td>None</td><td>16.9045</td><td>0.419791</td><td>16.1679</td><td>0.303329</td><td>None</td><td>None</td><td>None</td><td>None</td><td>15.161</td><td>0.051</td><td>14.936</td><td>0.095</td><td>14.722</td><td>0.115</td><td>None</td><td>None</td><td>None</td><td>None</td><td>None</td><td>None</td><td>None</td><td>None</td><td>None</td><td>None</td><td>None</td><td>None</td><td>16.1944577882</td><td>None</td><td>None</td><td>None</td><td>2018-11-02 07:38:47</td><td>0</td><td>1</td><td>None</td><td>None</td></tr>\n",
       "<tr><td>1240538</td><td>23543460+4147382</td><td>1</td><td>0.047416961903002645</td><td>0.0342</td><td>0.0327</td><td>6787832</td><td>None</td><td>None</td><td>None</td><td>None</td><td>None</td><td>None</td><td>VS</td><td>2018-11-02 07:38:47</td><td>None</td><td>star</td><td>None</td><td>None</td><td>2MASS PSC</td><td>tcs_view_star_2mass_psc_final</td><td>None</td><td>1002.0291585887466</td><td>2mass star angular</td><td>None</td><td>None</td><td>None</td><td>None</td><td>358.644207</td><td>41.793972</td><td>2.5</td><td>20</td><td>None</td><td>None</td><td>None</td><td>None</td><td>None</td><td>None</td><td>None</td><td>None</td><td>None</td><td>None</td><td>15.161</td><td>0.051</td><td>14.936</td><td>0.095</td><td>14.722</td><td>0.115</td><td>None</td><td>None</td><td>None</td><td>None</td><td>None</td><td>None</td><td>None</td><td>None</td><td>None</td><td>None</td><td>None</td><td>None</td><td>None</td><td>None</td><td>None</td><td>None</td><td>2018-11-02 07:38:47</td><td>0</td><td>1</td><td>None</td><td>1</td></tr>\n",
       "<tr><td>1240538</td><td>1921582490084254336</td><td>71</td><td>0.02915858874652471</td><td>0.0240566901</td><td>0.0164256824</td><td>6787833</td><td>None</td><td>None</td><td>None</td><td>None</td><td>None</td><td>None</td><td>VS</td><td>2018-11-02 07:38:47</td><td>None</td><td>star</td><td>None</td><td>None</td><td>Gaia DR1</td><td>tcs_view_star_gaia_dr1</td><td>None</td><td>1002.0291585887466</td><td>gaia star angular</td><td>None</td><td>None</td><td>None</td><td>None</td><td>358.6442009199287</td><td>41.793969182413925</td><td>2.5</td><td>36</td><td>None</td><td>None</td><td>None</td><td>None</td><td>None</td><td>None</td><td>None</td><td>None</td><td>None</td><td>None</td><td>None</td><td>None</td><td>None</td><td>None</td><td>None</td><td>None</td><td>None</td><td>None</td><td>None</td><td>None</td><td>None</td><td>None</td><td>None</td><td>None</td><td>None</td><td>None</td><td>None</td><td>None</td><td>16.1944577882</td><td>None</td><td>None</td><td>None</td><td>2018-11-02 07:38:47</td><td>0</td><td>2</td><td>None</td><td>1</td></tr>\n",
       "<tr><td>1240538</td><td>N07H005231</td><td>3</td><td>0.18240633683134472</td><td>0.1179765029</td><td>0.1391432023</td><td>6787834</td><td>None</td><td>None</td><td>None</td><td>None</td><td>None</td><td>None</td><td>UNCLEAR</td><td>2018-11-02 07:38:47</td><td>None</td><td>unknown</td><td>3</td><td>None</td><td>GSC v2.3</td><td>tcs_view_unknown_guide_star_catalogue_v2_3</td><td>None</td><td>1002.0291585887466</td><td>GSC unknown angular</td><td>None</td><td>None</td><td>None</td><td>None</td><td>358.64424664239124</td><td>41.79399527125081</td><td>2.0</td><td>38</td><td>None</td><td>None</td><td>16.9045</td><td>0.419791</td><td>16.1679</td><td>0.303329</td><td>None</td><td>None</td><td>None</td><td>None</td><td>None</td><td>None</td><td>None</td><td>None</td><td>None</td><td>None</td><td>None</td><td>None</td><td>None</td><td>None</td><td>None</td><td>None</td><td>None</td><td>None</td><td>None</td><td>None</td><td>None</td><td>None</td><td>None</td><td>None</td><td>None</td><td>None</td><td>2018-11-02 07:38:47</td><td>0</td><td>3</td><td>None</td><td>1</td></tr>\n",
       "</table>"
      ],
      "text/plain": [
       "<Table length=10>\n",
       "transient_object_id      catalogue_object_id       ... merged_rank\n",
       "       int64                    str30              ...    object  \n",
       "------------------- ------------------------------ ... -----------\n",
       "            1235661  232996065935604352/NCFO028307 ...        None\n",
       "            1240537 1920670857505734144/23364861+4 ...        None\n",
       "            1240537            1920670857505734144 ...           1\n",
       "            1240537              23364861+4048430  ...           1\n",
       "            1240537                     N07B003337 ...           1\n",
       "            1240537        2MASS J23364861+4048430 ...           1\n",
       "            1240538 23543460+4147382/1921582490084 ...        None\n",
       "            1240538              23543460+4147382  ...           1\n",
       "            1240538            1921582490084254336 ...           1\n",
       "            1240538                     N07H005231 ...           1"
      ]
     },
     "execution_count": 3,
     "metadata": {},
     "output_type": "execute_result"
    }
   ],
   "source": [
    "names=['transient_object_id', 'catalogue_object_id', 'catalogue_table_id', \n",
    "                                   'separationArcsec', 'northSeparationArcsec', 'eastSeparationArcsec', 'id', 'z', \n",
    "                                   'scale', 'distance', 'distance_modulus', 'photoZ', 'photoZErr', \n",
    "                                   'association_type', 'dateCreated', 'physical_separation_kpc', \n",
    "                                   'catalogue_object_type', 'catalogue_object_subtype', 'association_rank', \n",
    "                                   'catalogue_table_name', 'catalogue_view_name', 'rank', 'rankScore', \n",
    "                                   'search_name', 'major_axis_arcsec', 'direct_distance', 'direct_distance_scale', \n",
    "                                   'direct_distance_modulus', 'raDeg', 'decDeg', 'original_search_radius_arcsec', \n",
    "                                   'catalogue_view_id', 'U', 'UErr', 'B', 'BErr', 'V', 'VErr', 'R', 'RErr', \n",
    "                                   'I', 'IErr', 'J', 'JErr', 'H', 'HErr', 'K', 'KErr', '_u', '_uErr', \n",
    "                                   '_g', '_gErr', '_r', '_rErr', '_i', '_iErr', '_z', '_zErr', '_y', '_yErr', \n",
    "                                   'G', 'GErr', 'unkMag', 'unkMagErr', 'dateLastModified', 'updated', \n",
    "                                   'classificationReliability', 'transientAbsMag', 'merged_rank']\n",
    "\n",
    "cursor.execute(\"SELECT * FROM sherlock_crossmatches LIMIT 10\")\n",
    "results = cursor.fetchall()\n",
    "table = Table(rows=results, names=names)\n",
    "table"
   ]
  },
  {
   "cell_type": "markdown",
   "metadata": {},
   "source": [
    "Of interest to us here is to select on objects that have a `sherlock_crossmatches.rank = 1` (i.e. the most likely) crossmatch object that has `sherlock_crossmatches.catalogue_object_type = 'galaxy'`. *(Note we could also try to select objects where the `sherlock_crossmatches.association_type = 'SN'` (supernova) if we wished, you can alter the query below as appropriate, if desired)* We will impose a cut on our objects that the must have at least 8 detections also, for us to assess the light curves - i.e. `objects.ncand > 8`."
   ]
  },
  {
   "cell_type": "markdown",
   "metadata": {},
   "source": [
    "We know what objects we want to select, now we need to decide the information (columns) we want to retrieve about the objects and their Sherlock crossmatches. Since we are comparing transient and host galaxy magnitudes, we want to retrieve the brightest `g` and `r` magnitudes from the `objects` table (confusingly named `magrmin` and `maggmin`, currently), and the `_r` and `_g` magnitudes from the `sherlock_crossmatches` table (note the underscores are used distinguish these columns from the other photometric systems in the table, e.g. `R`) - we should also grab the id, name and coordinates of our objects."
   ]
  },
  {
   "cell_type": "markdown",
   "metadata": {},
   "source": [
    "Since we require information from two different tables, and we want to retrieve that information for rows that are associated with the same object id, we must use a table `JOIN` and specifically and `ON` condition. You can see this used in the query below - there is plenty of SQL documentation online to find out more about these.\n",
    "\n",
    "First we compute the current Julian Day from the Unix time:"
   ]
  },
  {
   "cell_type": "code",
   "execution_count": 4,
   "metadata": {},
   "outputs": [
    {
     "name": "stdout",
     "output_type": "stream",
     "text": [
      "This notbook was run on 2019-11-27T15:29:18.846729\n",
      "and the Julian Date is 2458815.1453570244\n"
     ]
    }
   ],
   "source": [
    "import time, datetime\n",
    "now = datetime.datetime.now()\n",
    "print (\"This notbook was run on \" + now.isoformat())\n",
    "\n",
    "jdnow = time.time()/86400 + 2440587.5\n",
    "print (\"and the Julian Date is {}\".format(jdnow))"
   ]
  },
  {
   "cell_type": "markdown",
   "metadata": {},
   "source": [
    "Now get the light curve information about all the objects we have found:"
   ]
  },
  {
   "cell_type": "code",
   "execution_count": 5,
   "metadata": {},
   "outputs": [
    {
     "name": "stdout",
     "output_type": "stream",
     "text": [
      "SELECT objects.objectId, objects.maggmin, objects.magrmin, objects.ncandgp, sherlock_crossmatches._g, sherlock_crossmatches._r FROM objects,sherlock_crossmatches WHERE objects.primaryId = sherlock_crossmatches.transient_object_id AND objects.magrmin < 16 AND sherlock_crossmatches.rank=1 AND sherlock_crossmatches.catalogue_object_type = 'galaxy'AND objects.jdmax > 2458815.145357 - 10.00000 \n"
     ]
    }
   ],
   "source": [
    "query = \"SELECT objects.objectId, objects.maggmin, objects.magrmin, objects.ncandgp, \"\n",
    "query += \"sherlock_crossmatches._g, sherlock_crossmatches._r \"\n",
    "query += \"FROM objects,sherlock_crossmatches \"\n",
    "query += \"WHERE objects.primaryId = sherlock_crossmatches.transient_object_id \"\n",
    "query += \"AND objects.magrmin < 16 \"\n",
    "query += \"AND sherlock_crossmatches.rank=1 \"\n",
    "query += \"AND sherlock_crossmatches.catalogue_object_type = 'galaxy'\"\n",
    "query += \"AND objects.jdmax > %f - 10.00000 \" % jdnow\n",
    "print(query)"
   ]
  },
  {
   "cell_type": "code",
   "execution_count": 6,
   "metadata": {},
   "outputs": [
    {
     "data": {
      "text/html": [
       "<i>Table length=724</i>\n",
       "<table id=\"table139784059504568\" class=\"table-striped table-bordered table-condensed\">\n",
       "<thead><tr><th>objectid</th><th>magrmin</th><th>maggmin</th><th>ncandgp</th><th>_g</th><th>_r</th></tr></thead>\n",
       "<thead><tr><th>str12</th><th>object</th><th>float64</th><th>int64</th><th>object</th><th>object</th></tr></thead>\n",
       "<tr><td>ZTF17aaaehsq</td><td>15.9903</td><td>15.2306</td><td>12</td><td>14.6526</td><td>13.8049</td></tr>\n",
       "<tr><td>ZTF17aaaekxo</td><td>15.3571</td><td>14.6711</td><td>28</td><td>14.3708</td><td>13.792</td></tr>\n",
       "<tr><td>ZTF17aaapzfr</td><td>17.5446</td><td>15.1379</td><td>10</td><td>16.1868</td><td>13.9937</td></tr>\n",
       "<tr><td>ZTF17aaaewjv</td><td>14.5717</td><td>14.7221</td><td>0</td><td>14.877</td><td>13.224</td></tr>\n",
       "<tr><td>ZTF17aaagrfw</td><td>16.0843</td><td>15.4192</td><td>21</td><td>14.6297</td><td>13.5482</td></tr>\n",
       "<tr><td>ZTF17aaaiyep</td><td>15.879</td><td>15.5292</td><td>7</td><td>14.1313</td><td>13.6555</td></tr>\n",
       "<tr><td>ZTF17aaajqkc</td><td>14.2403</td><td>14.0666</td><td>2</td><td>13.7364</td><td>12.9038</td></tr>\n",
       "<tr><td>ZTF17aaaocpq</td><td>16.2702</td><td>14.6863</td><td>4</td><td>None</td><td>None</td></tr>\n",
       "<tr><td>ZTF17aaasncs</td><td>15.9204</td><td>15.0895</td><td>29</td><td>14.7793</td><td>14.1447</td></tr>\n",
       "<tr><td>ZTF17aaawggq</td><td>15.3739</td><td>13.394</td><td>12</td><td>23.8172</td><td>18.7726</td></tr>\n",
       "<tr><td>...</td><td>...</td><td>...</td><td>...</td><td>...</td><td>...</td></tr>\n",
       "<tr><td>ZTF18aamshoe</td><td>16.6653</td><td>15.4474</td><td>0</td><td>14.2638</td><td>13.6031</td></tr>\n",
       "<tr><td>ZTF17aaafxyq</td><td>16.3298</td><td>15.816</td><td>1</td><td>13.6954</td><td>14.4736</td></tr>\n",
       "<tr><td>ZTF19aalnhje</td><td>15.7784</td><td>14.3276</td><td>0</td><td>14.7222</td><td>13.5725</td></tr>\n",
       "<tr><td>ZTF19acvxvik</td><td>None</td><td>14.0596</td><td>1</td><td>17.4097</td><td>16.1482</td></tr>\n",
       "<tr><td>ZTF19acvxxkk</td><td>None</td><td>13.8284</td><td>1</td><td>None</td><td>None</td></tr>\n",
       "<tr><td>ZTF19acvybwr</td><td>None</td><td>15.345</td><td>1</td><td>27.9153</td><td>23.0143</td></tr>\n",
       "<tr><td>ZTF19acvydpx</td><td>None</td><td>15.4658</td><td>1</td><td>None</td><td>None</td></tr>\n",
       "<tr><td>ZTF19acvyenv</td><td>None</td><td>13.4256</td><td>1</td><td>None</td><td>None</td></tr>\n",
       "<tr><td>ZTF19acvyeol</td><td>None</td><td>15.3569</td><td>1</td><td>25.006</td><td>25.0743</td></tr>\n",
       "<tr><td>ZTF19acvyfzd</td><td>None</td><td>15.5564</td><td>0</td><td>None</td><td>None</td></tr>\n",
       "</table>"
      ],
      "text/plain": [
       "<Table length=724>\n",
       "  objectid   magrmin maggmin ncandgp    _g      _r  \n",
       "   str12      object float64  int64   object  object\n",
       "------------ ------- ------- ------- ------- -------\n",
       "ZTF17aaaehsq 15.9903 15.2306      12 14.6526 13.8049\n",
       "ZTF17aaaekxo 15.3571 14.6711      28 14.3708  13.792\n",
       "ZTF17aaapzfr 17.5446 15.1379      10 16.1868 13.9937\n",
       "ZTF17aaaewjv 14.5717 14.7221       0  14.877  13.224\n",
       "ZTF17aaagrfw 16.0843 15.4192      21 14.6297 13.5482\n",
       "ZTF17aaaiyep  15.879 15.5292       7 14.1313 13.6555\n",
       "ZTF17aaajqkc 14.2403 14.0666       2 13.7364 12.9038\n",
       "ZTF17aaaocpq 16.2702 14.6863       4    None    None\n",
       "ZTF17aaasncs 15.9204 15.0895      29 14.7793 14.1447\n",
       "ZTF17aaawggq 15.3739  13.394      12 23.8172 18.7726\n",
       "         ...     ...     ...     ...     ...     ...\n",
       "ZTF18aamshoe 16.6653 15.4474       0 14.2638 13.6031\n",
       "ZTF17aaafxyq 16.3298  15.816       1 13.6954 14.4736\n",
       "ZTF19aalnhje 15.7784 14.3276       0 14.7222 13.5725\n",
       "ZTF19acvxvik    None 14.0596       1 17.4097 16.1482\n",
       "ZTF19acvxxkk    None 13.8284       1    None    None\n",
       "ZTF19acvybwr    None  15.345       1 27.9153 23.0143\n",
       "ZTF19acvydpx    None 15.4658       1    None    None\n",
       "ZTF19acvyenv    None 13.4256       1    None    None\n",
       "ZTF19acvyeol    None 15.3569       1  25.006 25.0743\n",
       "ZTF19acvyfzd    None 15.5564       0    None    None"
      ]
     },
     "execution_count": 6,
     "metadata": {},
     "output_type": "execute_result"
    }
   ],
   "source": [
    "cursor.execute(query)\n",
    "results = cursor.fetchall()\n",
    "table = Table(rows=results, names=[\"objectid\", \"magrmin\", \"maggmin\", \"ncandgp\", \"_g\", \"_r\"])\n",
    "table"
   ]
  },
  {
   "cell_type": "code",
   "execution_count": null,
   "metadata": {
    "scrolled": false
   },
   "outputs": [],
   "source": [
    "lum_objid = []\n",
    "for filter_name, tran_mag, host_mag, c in zip((\"g\", \"r\"), (\"maggmin\", \"magrmin\"), (\"_g\", \"_r\"), (\"C2\", \"C3\")):\n",
    "    # Remove those where there's no data\n",
    "    m1 = table[tran_mag] != None\n",
    "    m2 = table[host_mag] != None\n",
    "    t = table[m1 & m2]\n",
    "    # Calculate the magnitude difference\n",
    "    magdiff = t[tran_mag] - t[host_mag]\n",
    "    # Store those significantly brighter than their hosts\n",
    "    lum_objid.extend(t[\"objectid\"][magdiff <= -4])\n",
    "    # Plot histogram\n",
    "    plt.hist(magdiff, bins=25)\n",
    "    plt.xlabel(\"transient - host mag\")\n",
    "    plt.ylabel(\"N\")\n",
    "    plt.title(\"{}\".format(filter_name))\n",
    "    plt.show()\n",
    "    \n",
    "# Remove duplicates (i.e. those added for both g and r filters)\n",
    "lum_objid = tuple(set(lum_objid))"
   ]
  },
  {
   "cell_type": "markdown",
   "metadata": {},
   "source": [
    "We can use our list of luminous object ids to grab their lightcurves by querying the `candidates` table."
   ]
  },
  {
   "cell_type": "code",
   "execution_count": 8,
   "metadata": {},
   "outputs": [
    {
     "name": "stdout",
     "output_type": "stream",
     "text": [
      "('ZTF19acthtyt', 'ZTF18acioquo', 'ZTF19acucowl', 'ZTF19acvwsns', 'ZTF19acufaqb', 'ZTF19acubzbw', 'ZTF19acvwxtp', 'ZTF19actjnxb', 'ZTF19actjnuk', 'ZTF19acvguwr', 'ZTF18aczunjk', 'ZTF19acvtskn', 'ZTF19acvgpdk', 'ZTF19actidpl', 'ZTF19acvwjhw', 'ZTF19acvjfks', 'ZTF19acucvmu', 'ZTF19acvxgqd', 'ZTF19actuluk', 'ZTF19actutzd', 'ZTF19acttsvs', 'ZTF19actuome', 'ZTF19aculaqw', 'ZTF19actfxmj', 'ZTF19acukgvt', 'ZTF19acughsd', 'ZTF19actjnna', 'ZTF19acvivod', 'ZTF19acukhvh', 'ZTF19acuevgq', 'ZTF19acudtpc', 'ZTF19acvwpxg', 'ZTF19acukwrc', 'ZTF19acvtukd', 'ZTF19acvwrtm', 'ZTF19acvybwr', 'ZTF19acvxoxh', 'ZTF19acvhimf', 'ZTF19acukelx', 'ZTF19actkppl', 'ZTF19actuuln', 'ZTF19acvxfzv', 'ZTF19actjmvc', 'ZTF19acucomr', 'ZTF19acvilgz', 'ZTF19acvwsmb', 'ZTF19actunxi', 'ZTF19actiaio', 'ZTF19acthzob', 'ZTF19actjnfy', 'ZTF19actjnmm', 'ZTF19acukulb', 'ZTF19acvhigl', 'ZTF19acvwsjl', 'ZTF19acvgvan', 'ZTF19actidxt', 'ZTF19acukuml', 'ZTF19acvjrtb', 'ZTF19actumqz', 'ZTF19acviqmc', 'ZTF17aaakibm', 'ZTF19actjnqy', 'ZTF19acufrog', 'ZTF19acthzrr', 'ZTF19acvfool', 'ZTF19acvwjgj', 'ZTF19acvxbnd', 'ZTF19acujwmg', 'ZTF19acuexkx', 'ZTF19acuktfc', 'ZTF18aceiqfb', 'ZTF19actjnqx', 'ZTF19actljit', 'ZTF19acvgxge', 'ZTF19acvtrpr', 'ZTF19actiemn', 'ZTF19acthtzf', 'ZTF18aaaatog', 'ZTF19acttrcm', 'ZTF19acvwpxh', 'ZTF19acuenrs', 'ZTF19acvfobn', 'ZTF19acvwpyt', 'ZTF19actjnxs', 'ZTF19acvxczh', 'ZTF17aadrhwo', 'ZTF19acvjcxe', 'ZTF19acuhhpw', 'ZTF19actjnyc', 'ZTF19actkgbh', 'ZTF19acubtss', 'ZTF19actjnbs', 'ZTF19acuepez', 'ZTF19actjzqo', 'ZTF19actjnqz', 'ZTF19acuclvf', 'ZTF18aabrxeh', 'ZTF19acqdbad', 'ZTF19acvxier', 'ZTF19actjnye', 'ZTF19acukwat', 'ZTF19acvwyuj', 'ZTF19acvxkjg', 'ZTF19acthsnh', 'ZTF19acvwrpm', 'ZTF19acuehio', 'ZTF19actkbvw', 'ZTF19acvhfoj', 'ZTF19acvtvgf', 'ZTF19acvttfq', 'ZTF19acvhkrl', 'ZTF19acvxkqz', 'ZTF19acvxfjw', 'ZTF19acvhnjg', 'ZTF19acvmbvi', 'ZTF19acucdku', 'ZTF17aaawggq', 'ZTF19actuhog', 'ZTF19acudqcq', 'ZTF19acukvrd', 'ZTF19actunuu', 'ZTF19actupsw', 'ZTF19acudnsy', 'ZTF19actjnxe', 'ZTF19acukybb', 'ZTF19acthtpu', 'ZTF19acvyeol', 'ZTF19acttuox', 'ZTF19acudtkk', 'ZTF19actkonv', 'ZTF19acuselo', 'ZTF19acvwyhc')\n"
     ]
    }
   ],
   "source": [
    "print(lum_objid)"
   ]
  },
  {
   "cell_type": "code",
   "execution_count": 9,
   "metadata": {},
   "outputs": [
    {
     "name": "stdout",
     "output_type": "stream",
     "text": [
      "SELECT objectid, jd-{} AS ago, magpsf, sigmapsf, fid FROM candidates WHERE objectid IN 2458815.1453570244;\n"
     ]
    },
    {
     "ename": "ProgrammingError",
     "evalue": "1064 (42000): You have an error in your SQL syntax; check the manual that corresponds to your MySQL server version for the right syntax to use near '} AS ago, magpsf, sigmapsf, fid FROM candidates WHERE objectid IN 2458815.145357' at line 1",
     "output_type": "error",
     "traceback": [
      "\u001b[0;31m---------------------------------------------------------------------------\u001b[0m",
      "\u001b[0;31mProgrammingError\u001b[0m                          Traceback (most recent call last)",
      "\u001b[0;32m<ipython-input-9-2463374a46f7>\u001b[0m in \u001b[0;36m<module>\u001b[0;34m\u001b[0m\n\u001b[1;32m      3\u001b[0m \u001b[0mquery\u001b[0m \u001b[0;34m+=\u001b[0m \u001b[0;34m\"FROM candidates WHERE objectid IN {};\"\u001b[0m\u001b[0;34m.\u001b[0m\u001b[0mformat\u001b[0m\u001b[0;34m(\u001b[0m\u001b[0mjdnow\u001b[0m\u001b[0;34m,\u001b[0m \u001b[0mlum_objid\u001b[0m\u001b[0;34m)\u001b[0m\u001b[0;34m\u001b[0m\u001b[0;34m\u001b[0m\u001b[0m\n\u001b[1;32m      4\u001b[0m \u001b[0mprint\u001b[0m\u001b[0;34m(\u001b[0m\u001b[0mquery\u001b[0m\u001b[0;34m)\u001b[0m\u001b[0;34m\u001b[0m\u001b[0;34m\u001b[0m\u001b[0m\n\u001b[0;32m----> 5\u001b[0;31m \u001b[0mcursor\u001b[0m\u001b[0;34m.\u001b[0m\u001b[0mexecute\u001b[0m\u001b[0;34m(\u001b[0m\u001b[0mquery\u001b[0m\u001b[0;34m)\u001b[0m\u001b[0;34m\u001b[0m\u001b[0;34m\u001b[0m\u001b[0m\n\u001b[0m\u001b[1;32m      6\u001b[0m \u001b[0mresult\u001b[0m \u001b[0;34m=\u001b[0m \u001b[0mcursor\u001b[0m\u001b[0;34m.\u001b[0m\u001b[0mfetchall\u001b[0m\u001b[0;34m(\u001b[0m\u001b[0;34m)\u001b[0m\u001b[0;34m\u001b[0m\u001b[0;34m\u001b[0m\u001b[0m\n",
      "\u001b[0;32m/opt/conda/lib/python3.7/site-packages/mysql/connector/cursor.py\u001b[0m in \u001b[0;36mexecute\u001b[0;34m(self, operation, params, multi)\u001b[0m\n\u001b[1;32m    567\u001b[0m \u001b[0;34m\u001b[0m\u001b[0m\n\u001b[1;32m    568\u001b[0m         \u001b[0;32mtry\u001b[0m\u001b[0;34m:\u001b[0m\u001b[0;34m\u001b[0m\u001b[0;34m\u001b[0m\u001b[0m\n\u001b[0;32m--> 569\u001b[0;31m             \u001b[0mself\u001b[0m\u001b[0;34m.\u001b[0m\u001b[0m_handle_result\u001b[0m\u001b[0;34m(\u001b[0m\u001b[0mself\u001b[0m\u001b[0;34m.\u001b[0m\u001b[0m_connection\u001b[0m\u001b[0;34m.\u001b[0m\u001b[0mcmd_query\u001b[0m\u001b[0;34m(\u001b[0m\u001b[0mstmt\u001b[0m\u001b[0;34m)\u001b[0m\u001b[0;34m)\u001b[0m\u001b[0;34m\u001b[0m\u001b[0;34m\u001b[0m\u001b[0m\n\u001b[0m\u001b[1;32m    570\u001b[0m         \u001b[0;32mexcept\u001b[0m \u001b[0merrors\u001b[0m\u001b[0;34m.\u001b[0m\u001b[0mInterfaceError\u001b[0m\u001b[0;34m:\u001b[0m\u001b[0;34m\u001b[0m\u001b[0;34m\u001b[0m\u001b[0m\n\u001b[1;32m    571\u001b[0m             \u001b[0;32mif\u001b[0m \u001b[0mself\u001b[0m\u001b[0;34m.\u001b[0m\u001b[0m_connection\u001b[0m\u001b[0;34m.\u001b[0m\u001b[0m_have_next_result\u001b[0m\u001b[0;34m:\u001b[0m  \u001b[0;31m# pylint: disable=W0212\u001b[0m\u001b[0;34m\u001b[0m\u001b[0;34m\u001b[0m\u001b[0m\n",
      "\u001b[0;32m/opt/conda/lib/python3.7/site-packages/mysql/connector/connection.py\u001b[0m in \u001b[0;36mcmd_query\u001b[0;34m(self, query, raw, buffered, raw_as_string)\u001b[0m\n\u001b[1;32m    551\u001b[0m         \u001b[0;32mif\u001b[0m \u001b[0;32mnot\u001b[0m \u001b[0misinstance\u001b[0m\u001b[0;34m(\u001b[0m\u001b[0mquery\u001b[0m\u001b[0;34m,\u001b[0m \u001b[0mbytes\u001b[0m\u001b[0;34m)\u001b[0m\u001b[0;34m:\u001b[0m\u001b[0;34m\u001b[0m\u001b[0;34m\u001b[0m\u001b[0m\n\u001b[1;32m    552\u001b[0m             \u001b[0mquery\u001b[0m \u001b[0;34m=\u001b[0m \u001b[0mquery\u001b[0m\u001b[0;34m.\u001b[0m\u001b[0mencode\u001b[0m\u001b[0;34m(\u001b[0m\u001b[0;34m'utf-8'\u001b[0m\u001b[0;34m)\u001b[0m\u001b[0;34m\u001b[0m\u001b[0;34m\u001b[0m\u001b[0m\n\u001b[0;32m--> 553\u001b[0;31m         \u001b[0mresult\u001b[0m \u001b[0;34m=\u001b[0m \u001b[0mself\u001b[0m\u001b[0;34m.\u001b[0m\u001b[0m_handle_result\u001b[0m\u001b[0;34m(\u001b[0m\u001b[0mself\u001b[0m\u001b[0;34m.\u001b[0m\u001b[0m_send_cmd\u001b[0m\u001b[0;34m(\u001b[0m\u001b[0mServerCmd\u001b[0m\u001b[0;34m.\u001b[0m\u001b[0mQUERY\u001b[0m\u001b[0;34m,\u001b[0m \u001b[0mquery\u001b[0m\u001b[0;34m)\u001b[0m\u001b[0;34m)\u001b[0m\u001b[0;34m\u001b[0m\u001b[0;34m\u001b[0m\u001b[0m\n\u001b[0m\u001b[1;32m    554\u001b[0m \u001b[0;34m\u001b[0m\u001b[0m\n\u001b[1;32m    555\u001b[0m         \u001b[0;32mif\u001b[0m \u001b[0mself\u001b[0m\u001b[0;34m.\u001b[0m\u001b[0m_have_next_result\u001b[0m\u001b[0;34m:\u001b[0m\u001b[0;34m\u001b[0m\u001b[0;34m\u001b[0m\u001b[0m\n",
      "\u001b[0;32m/opt/conda/lib/python3.7/site-packages/mysql/connector/connection.py\u001b[0m in \u001b[0;36m_handle_result\u001b[0;34m(self, packet)\u001b[0m\n\u001b[1;32m    440\u001b[0m             \u001b[0;32mreturn\u001b[0m \u001b[0mself\u001b[0m\u001b[0;34m.\u001b[0m\u001b[0m_handle_eof\u001b[0m\u001b[0;34m(\u001b[0m\u001b[0mpacket\u001b[0m\u001b[0;34m)\u001b[0m\u001b[0;34m\u001b[0m\u001b[0;34m\u001b[0m\u001b[0m\n\u001b[1;32m    441\u001b[0m         \u001b[0;32melif\u001b[0m \u001b[0mpacket\u001b[0m\u001b[0;34m[\u001b[0m\u001b[0;36m4\u001b[0m\u001b[0;34m]\u001b[0m \u001b[0;34m==\u001b[0m \u001b[0;36m255\u001b[0m\u001b[0;34m:\u001b[0m\u001b[0;34m\u001b[0m\u001b[0;34m\u001b[0m\u001b[0m\n\u001b[0;32m--> 442\u001b[0;31m             \u001b[0;32mraise\u001b[0m \u001b[0merrors\u001b[0m\u001b[0;34m.\u001b[0m\u001b[0mget_exception\u001b[0m\u001b[0;34m(\u001b[0m\u001b[0mpacket\u001b[0m\u001b[0;34m)\u001b[0m\u001b[0;34m\u001b[0m\u001b[0;34m\u001b[0m\u001b[0m\n\u001b[0m\u001b[1;32m    443\u001b[0m \u001b[0;34m\u001b[0m\u001b[0m\n\u001b[1;32m    444\u001b[0m         \u001b[0;31m# We have a text result set\u001b[0m\u001b[0;34m\u001b[0m\u001b[0;34m\u001b[0m\u001b[0;34m\u001b[0m\u001b[0m\n",
      "\u001b[0;31mProgrammingError\u001b[0m: 1064 (42000): You have an error in your SQL syntax; check the manual that corresponds to your MySQL server version for the right syntax to use near '} AS ago, magpsf, sigmapsf, fid FROM candidates WHERE objectid IN 2458815.145357' at line 1"
     ]
    }
   ],
   "source": [
    "# Get the light curves\n",
    "query = \"SELECT objectid, jd-{} AS ago, magpsf, sigmapsf, fid \"\n",
    "query += \"FROM candidates WHERE objectid IN {};\".format(jdnow, lum_objid)\n",
    "print(query)\n",
    "cursor.execute(query)\n",
    "result = cursor.fetchall()"
   ]
  },
  {
   "cell_type": "code",
   "execution_count": null,
   "metadata": {},
   "outputs": [],
   "source": [
    "ztf_lc_res = Table(rows=result, names=(\"objectid\", \"ago\", \"magpsf\", \"sigmapsf\", \"fid\")).group_by(\"objectid\")\n",
    "ztf_lc_res"
   ]
  },
  {
   "cell_type": "markdown",
   "metadata": {},
   "source": [
    "For each luminous object, plot the light curve"
   ]
  },
  {
   "cell_type": "code",
   "execution_count": null,
   "metadata": {
    "scrolled": false
   },
   "outputs": [],
   "source": [
    "for objid in lum_objid:\n",
    "    lc = ztf_lc_res[ztf_lc_res[\"objectid\"] == objid]\n",
    "    if len(lc) < 8:\n",
    "        continue\n",
    "    lcg = lc[[lc[\"fid\"] == 1]]\n",
    "    plt.errorbar(lcg[\"ago\"], lcg[\"magpsf\"], yerr=lcg[\"sigmapsf\"], c=\"C2\")\n",
    "    lcr = lc[[lc[\"fid\"] == 2]]\n",
    "    plt.errorbar(lcr[\"ago\"], lcr[\"magpsf\"], yerr=lcr[\"sigmapsf\"], c=\"C3\")\n",
    "    plt.xlabel(\"days in the past\")\n",
    "    plt.ylabel(\"psf mag\")\n",
    "    plt.title(\"{}\".format(objid))\n",
    "    plt.gca().invert_yaxis()\n",
    "    plt.show()"
   ]
  },
  {
   "cell_type": "code",
   "execution_count": null,
   "metadata": {},
   "outputs": [],
   "source": []
  }
 ],
 "metadata": {
  "kernelspec": {
   "display_name": "Python 3",
   "language": "python",
   "name": "python3"
  },
  "language_info": {
   "codemirror_mode": {
    "name": "ipython",
    "version": 3
   },
   "file_extension": ".py",
   "mimetype": "text/x-python",
   "name": "python",
   "nbconvert_exporter": "python",
   "pygments_lexer": "ipython3",
   "version": "3.7.2"
  }
 },
 "nbformat": 4,
 "nbformat_minor": 2
}
