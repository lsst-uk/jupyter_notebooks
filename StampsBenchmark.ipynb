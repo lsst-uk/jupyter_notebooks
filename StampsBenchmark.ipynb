{
 "cells": [
  {
   "cell_type": "code",
   "execution_count": 1,
   "metadata": {},
   "outputs": [],
   "source": [
    "#print('get stamps')\n",
    "#!wget https://lasair.roe.ac.uk/lasair/static/ztf/stamps/fits/stamps770.tar\n",
    "#print('fetched')\n",
    "#!mkdir fits\n",
    "#!cd fits; tar xf stamps770.tar\n",
    "#!mkdir jpg\n",
    "#print('unpacked')"
   ]
  },
  {
   "cell_type": "code",
   "execution_count": 2,
   "metadata": {},
   "outputs": [],
   "source": [
    "import os, sys\n",
    "from astropy.io import fits\n",
    "from PIL import Image\n",
    "import numpy\n",
    "import os.path\n",
    "import time"
   ]
  },
  {
   "cell_type": "code",
   "execution_count": 3,
   "metadata": {},
   "outputs": [],
   "source": [
    "t_read = t_write = 0.0"
   ]
  },
  {
   "cell_type": "code",
   "execution_count": 4,
   "metadata": {},
   "outputs": [],
   "source": [
    "def open_fits(filename):\n",
    "    global t_read\n",
    "    t = time.time()\n",
    "    data = fits.getdata(filename)\n",
    "    t_read += time.time() - t\n",
    "\n",
    "    img = Image.fromarray(data)\n",
    "    y=numpy.asarray(img.getdata(),dtype=numpy.float64).reshape((img.size[1],img.size[0]))\n",
    "\n",
    "    y = numpy.nan_to_num(y)\n",
    "    numpy.seterr(invalid='ignore')\n",
    "#    print numpy.isnan(y)\n",
    "    y = numpy.abs(y)\n",
    "#    y = numpy.sqrt(y)\n",
    "    med = numpy.median(y)\n",
    "    mymin = 0\n",
    "    mymax = 3*med\n",
    "#    print '%.1f %s' % (med, filename)\n",
    "    y = (y-mymin)*255/(mymax-mymin)\n",
    "    y = numpy.maximum(y, 0)\n",
    "    y = numpy.minimum(y, 255)\n",
    "    y=numpy.asarray(y,dtype=numpy.uint8)\n",
    "    return Image.fromarray(y,mode='L')"
   ]
  },
  {
   "cell_type": "code",
   "execution_count": null,
   "metadata": {},
   "outputs": [],
   "source": [
    "def convert_fits(dirfits, dirjpg, name):\n",
    "    global t_write\n",
    "    t = name.split('_')\n",
    "    file_ref     = '%s/%s_ref.fits.gz' % (dirfits, t[0])\n",
    "    file_sci     = '%s/%s_%s_targ_sci.fits.gz' % (dirfits, t[0], t[1])\n",
    "    file_scimref = '%s/%s_%s_targ_scimref.fits.gz' % (dirfits, t[0], t[1])\n",
    "    file_refmsci = '%s/%s_%s_targ_refmsci.fits.gz' % (dirfits, t[0], t[1])\n",
    "    file_jpg     = '%s/%s.jpg' % (dirjpg, t[0])\n",
    "    if os.path.isfile(file_jpg):\n",
    "        return 0\n",
    "    \n",
    "    border = 5\n",
    "    size = 63\n",
    "    new = Image.new('L', (4*border+3*size,2*border+size))\n",
    "    \n",
    "    sci = open_fits(file_sci)\n",
    "    ref = open_fits(file_ref)\n",
    "    try:    diff = open_fits(file_scimref)\n",
    "    except: diff = open_fits(file_refmsci)\n",
    "\n",
    "    new.paste(sci, (border, border))\n",
    "    new.paste(ref, (size+2*border, border))\n",
    "    new.paste(diff, (2*size+3*border,border))\n",
    "    \n",
    "    t = time.time()\n",
    "    new.save(file_jpg, 'jpeg')\n",
    "    t_write += time.time() - t\n",
    "    return 1"
   ]
  },
  {
   "cell_type": "code",
   "execution_count": null,
   "metadata": {},
   "outputs": [
    {
     "name": "stderr",
     "output_type": "stream",
     "text": [
      "/opt/conda/lib/python3.7/site-packages/ipykernel_launcher.py:19: RuntimeWarning: divide by zero encountered in true_divide\n"
     ]
    }
   ],
   "source": [
    "dirfits = '770/fits'\n",
    "dirjpg  = '770/jpg'\n",
    "\n",
    "day_total = 0\n",
    "run_total = 0\n",
    "t = time.time()\n",
    "\n",
    "if not os.path.exists(dirjpg):\n",
    "    print('making jpg directory')\n",
    "    os.system('mkdir %s' % dirjpg)\n",
    "\n",
    "if os.path.exists(dirfits):\n",
    "    for file in os.listdir(dirfits):\n",
    "        if file.endswith('_targ_sci.fits.gz'):\n",
    "            day_total += 1\n",
    "            run_total += convert_fits(dirfits, dirjpg, file)\n",
    "print('------------  JPG STAMPS ----------')\n",
    "print('Tried %d stamps, Made %d jpegs' % (day_total, run_total))\n",
    "print('Time %.1f, read %.1f, write %.1f ' % ((time.time() - t), t_read, t_write))"
   ]
  },
  {
   "cell_type": "code",
   "execution_count": null,
   "metadata": {},
   "outputs": [],
   "source": []
  }
 ],
 "metadata": {
  "kernelspec": {
   "display_name": "Python 3",
   "language": "python",
   "name": "python3"
  },
  "language_info": {
   "codemirror_mode": {
    "name": "ipython",
    "version": 3
   },
   "file_extension": ".py",
   "mimetype": "text/x-python",
   "name": "python",
   "nbconvert_exporter": "python",
   "pygments_lexer": "ipython3",
   "version": "3.7.2"
  }
 },
 "nbformat": 4,
 "nbformat_minor": 2
}
